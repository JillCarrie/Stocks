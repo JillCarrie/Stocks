{
 "cells": [
  {
   "cell_type": "markdown",
   "metadata": {},
   "source": [
    "## 1) Let's start by getting a feel for the time-series data."
   ]
  },
  {
   "cell_type": "code",
   "execution_count": 14,
   "metadata": {},
   "outputs": [],
   "source": [
    "#Import libraries\n",
    "import pandas as pd\n",
    "import numpy as np\n",
    "import matplotlib.pyplot as plt\n",
    "import seaborn as sns\n",
    "%matplotlib inline\n",
    "import datetime"
   ]
  },
  {
   "cell_type": "code",
   "execution_count": 15,
   "metadata": {},
   "outputs": [],
   "source": [
    "#Importing E-mini S&P 500 Index for Jan 1 2017 - Feb 26 2020\n",
    "df = pd.read_csv('ES-2017-Feb2020.csv')"
   ]
  },
  {
   "cell_type": "code",
   "execution_count": 16,
   "metadata": {},
   "outputs": [
    {
     "data": {
      "text/plain": [
       "'Null Values Count'"
      ]
     },
     "metadata": {},
     "output_type": "display_data"
    },
    {
     "data": {
      "text/plain": [
       "Date       1\n",
       "Time       1\n",
       "Inc Vol    1\n",
       "Volume     1\n",
       "Open       1\n",
       "High       1\n",
       "Low        1\n",
       "Close      1\n",
       "dtype: int64"
      ]
     },
     "metadata": {},
     "output_type": "display_data"
    },
    {
     "data": {
      "text/plain": [
       "'Shape'"
      ]
     },
     "metadata": {},
     "output_type": "display_data"
    },
    {
     "data": {
      "text/plain": [
       "(276089, 8)"
      ]
     },
     "metadata": {},
     "output_type": "display_data"
    },
    {
     "data": {
      "text/plain": [
       "'Info'"
      ]
     },
     "metadata": {},
     "output_type": "display_data"
    },
    {
     "data": {
      "text/plain": [
       "<bound method DataFrame.info of               Date      Time   Inc Vol     Volume     Open     High      Low  \\\n",
       "0       2020-02-26  16:02:00  107909.0  3716471.0  3119.00  3120.25  3110.25   \n",
       "1       2020-02-26  15:58:00   31234.0  3608510.0  3122.00  3124.50  3117.50   \n",
       "2       2020-02-26  15:54:00   31973.0  3577246.0  3121.00  3126.00  3119.00   \n",
       "3       2020-02-26  15:50:00   23191.0  3545217.0  3122.00  3124.50  3119.50   \n",
       "4       2020-02-26  15:46:00   19763.0  3521998.0  3121.75  3125.00  3119.50   \n",
       "...            ...       ...       ...        ...      ...      ...      ...   \n",
       "276084  2017-01-02  18:18:00     528.0     9405.0  2243.25  2244.25  2243.25   \n",
       "276085  2017-01-02  18:14:00     655.0     8877.0  2242.75  2243.50  2242.50   \n",
       "276086  2017-01-02  18:10:00    1485.0     8221.0  2244.00  2244.00  2242.50   \n",
       "276087  2017-01-02  18:06:00    6735.0     6736.0  2240.75  2245.00  2240.75   \n",
       "276088         NaN       NaN       NaN        NaN      NaN      NaN      NaN   \n",
       "\n",
       "          Close  \n",
       "0       3111.50  \n",
       "1       3119.00  \n",
       "2       3122.25  \n",
       "3       3121.00  \n",
       "4       3122.00  \n",
       "...         ...  \n",
       "276084  2244.25  \n",
       "276085  2243.25  \n",
       "276086  2242.75  \n",
       "276087  2243.75  \n",
       "276088      NaN  \n",
       "\n",
       "[276089 rows x 8 columns]>"
      ]
     },
     "metadata": {},
     "output_type": "display_data"
    },
    {
     "data": {
      "text/plain": [
       "'Data'"
      ]
     },
     "metadata": {},
     "output_type": "display_data"
    },
    {
     "data": {
      "text/html": [
       "<div>\n",
       "<style scoped>\n",
       "    .dataframe tbody tr th:only-of-type {\n",
       "        vertical-align: middle;\n",
       "    }\n",
       "\n",
       "    .dataframe tbody tr th {\n",
       "        vertical-align: top;\n",
       "    }\n",
       "\n",
       "    .dataframe thead th {\n",
       "        text-align: right;\n",
       "    }\n",
       "</style>\n",
       "<table border=\"1\" class=\"dataframe\">\n",
       "  <thead>\n",
       "    <tr style=\"text-align: right;\">\n",
       "      <th></th>\n",
       "      <th>Date</th>\n",
       "      <th>Time</th>\n",
       "      <th>Inc Vol</th>\n",
       "      <th>Volume</th>\n",
       "      <th>Open</th>\n",
       "      <th>High</th>\n",
       "      <th>Low</th>\n",
       "      <th>Close</th>\n",
       "    </tr>\n",
       "  </thead>\n",
       "  <tbody>\n",
       "    <tr>\n",
       "      <td>0</td>\n",
       "      <td>2020-02-26</td>\n",
       "      <td>16:02:00</td>\n",
       "      <td>107909.0</td>\n",
       "      <td>3716471.0</td>\n",
       "      <td>3119.00</td>\n",
       "      <td>3120.25</td>\n",
       "      <td>3110.25</td>\n",
       "      <td>3111.50</td>\n",
       "    </tr>\n",
       "    <tr>\n",
       "      <td>1</td>\n",
       "      <td>2020-02-26</td>\n",
       "      <td>15:58:00</td>\n",
       "      <td>31234.0</td>\n",
       "      <td>3608510.0</td>\n",
       "      <td>3122.00</td>\n",
       "      <td>3124.50</td>\n",
       "      <td>3117.50</td>\n",
       "      <td>3119.00</td>\n",
       "    </tr>\n",
       "    <tr>\n",
       "      <td>2</td>\n",
       "      <td>2020-02-26</td>\n",
       "      <td>15:54:00</td>\n",
       "      <td>31973.0</td>\n",
       "      <td>3577246.0</td>\n",
       "      <td>3121.00</td>\n",
       "      <td>3126.00</td>\n",
       "      <td>3119.00</td>\n",
       "      <td>3122.25</td>\n",
       "    </tr>\n",
       "    <tr>\n",
       "      <td>3</td>\n",
       "      <td>2020-02-26</td>\n",
       "      <td>15:50:00</td>\n",
       "      <td>23191.0</td>\n",
       "      <td>3545217.0</td>\n",
       "      <td>3122.00</td>\n",
       "      <td>3124.50</td>\n",
       "      <td>3119.50</td>\n",
       "      <td>3121.00</td>\n",
       "    </tr>\n",
       "    <tr>\n",
       "      <td>4</td>\n",
       "      <td>2020-02-26</td>\n",
       "      <td>15:46:00</td>\n",
       "      <td>19763.0</td>\n",
       "      <td>3521998.0</td>\n",
       "      <td>3121.75</td>\n",
       "      <td>3125.00</td>\n",
       "      <td>3119.50</td>\n",
       "      <td>3122.00</td>\n",
       "    </tr>\n",
       "    <tr>\n",
       "      <td>...</td>\n",
       "      <td>...</td>\n",
       "      <td>...</td>\n",
       "      <td>...</td>\n",
       "      <td>...</td>\n",
       "      <td>...</td>\n",
       "      <td>...</td>\n",
       "      <td>...</td>\n",
       "      <td>...</td>\n",
       "    </tr>\n",
       "    <tr>\n",
       "      <td>276084</td>\n",
       "      <td>2017-01-02</td>\n",
       "      <td>18:18:00</td>\n",
       "      <td>528.0</td>\n",
       "      <td>9405.0</td>\n",
       "      <td>2243.25</td>\n",
       "      <td>2244.25</td>\n",
       "      <td>2243.25</td>\n",
       "      <td>2244.25</td>\n",
       "    </tr>\n",
       "    <tr>\n",
       "      <td>276085</td>\n",
       "      <td>2017-01-02</td>\n",
       "      <td>18:14:00</td>\n",
       "      <td>655.0</td>\n",
       "      <td>8877.0</td>\n",
       "      <td>2242.75</td>\n",
       "      <td>2243.50</td>\n",
       "      <td>2242.50</td>\n",
       "      <td>2243.25</td>\n",
       "    </tr>\n",
       "    <tr>\n",
       "      <td>276086</td>\n",
       "      <td>2017-01-02</td>\n",
       "      <td>18:10:00</td>\n",
       "      <td>1485.0</td>\n",
       "      <td>8221.0</td>\n",
       "      <td>2244.00</td>\n",
       "      <td>2244.00</td>\n",
       "      <td>2242.50</td>\n",
       "      <td>2242.75</td>\n",
       "    </tr>\n",
       "    <tr>\n",
       "      <td>276087</td>\n",
       "      <td>2017-01-02</td>\n",
       "      <td>18:06:00</td>\n",
       "      <td>6735.0</td>\n",
       "      <td>6736.0</td>\n",
       "      <td>2240.75</td>\n",
       "      <td>2245.00</td>\n",
       "      <td>2240.75</td>\n",
       "      <td>2243.75</td>\n",
       "    </tr>\n",
       "    <tr>\n",
       "      <td>276088</td>\n",
       "      <td>NaN</td>\n",
       "      <td>NaN</td>\n",
       "      <td>NaN</td>\n",
       "      <td>NaN</td>\n",
       "      <td>NaN</td>\n",
       "      <td>NaN</td>\n",
       "      <td>NaN</td>\n",
       "      <td>NaN</td>\n",
       "    </tr>\n",
       "  </tbody>\n",
       "</table>\n",
       "<p>276089 rows × 8 columns</p>\n",
       "</div>"
      ],
      "text/plain": [
       "              Date      Time   Inc Vol     Volume     Open     High      Low  \\\n",
       "0       2020-02-26  16:02:00  107909.0  3716471.0  3119.00  3120.25  3110.25   \n",
       "1       2020-02-26  15:58:00   31234.0  3608510.0  3122.00  3124.50  3117.50   \n",
       "2       2020-02-26  15:54:00   31973.0  3577246.0  3121.00  3126.00  3119.00   \n",
       "3       2020-02-26  15:50:00   23191.0  3545217.0  3122.00  3124.50  3119.50   \n",
       "4       2020-02-26  15:46:00   19763.0  3521998.0  3121.75  3125.00  3119.50   \n",
       "...            ...       ...       ...        ...      ...      ...      ...   \n",
       "276084  2017-01-02  18:18:00     528.0     9405.0  2243.25  2244.25  2243.25   \n",
       "276085  2017-01-02  18:14:00     655.0     8877.0  2242.75  2243.50  2242.50   \n",
       "276086  2017-01-02  18:10:00    1485.0     8221.0  2244.00  2244.00  2242.50   \n",
       "276087  2017-01-02  18:06:00    6735.0     6736.0  2240.75  2245.00  2240.75   \n",
       "276088         NaN       NaN       NaN        NaN      NaN      NaN      NaN   \n",
       "\n",
       "          Close  \n",
       "0       3111.50  \n",
       "1       3119.00  \n",
       "2       3122.25  \n",
       "3       3121.00  \n",
       "4       3122.00  \n",
       "...         ...  \n",
       "276084  2244.25  \n",
       "276085  2243.25  \n",
       "276086  2242.75  \n",
       "276087  2243.75  \n",
       "276088      NaN  \n",
       "\n",
       "[276089 rows x 8 columns]"
      ]
     },
     "metadata": {},
     "output_type": "display_data"
    }
   ],
   "source": [
    "display('Null Values Count', df.isnull().sum())\n",
    "display('Shape', df.shape)\n",
    "display('Info', df.info)\n",
    "display('Data', df)"
   ]
  },
  {
   "cell_type": "markdown",
   "metadata": {},
   "source": [
    "## 2) Data Cleaning"
   ]
  },
  {
   "cell_type": "code",
   "execution_count": 17,
   "metadata": {},
   "outputs": [],
   "source": [
    "#Dropping that last row which is all nulls.\n",
    "df = df.dropna()"
   ]
  },
  {
   "cell_type": "markdown",
   "metadata": {},
   "source": [
    "Really would prefer a DateTime Object for our Index, cause our data is plotting backwards."
   ]
  },
  {
   "cell_type": "code",
   "execution_count": 18,
   "metadata": {},
   "outputs": [],
   "source": [
    "#Making a Datetime object column, which contains both date & time info\n",
    "df['DateTime'] = pd.to_datetime(df['Date'] + ' ' + df['Time'])"
   ]
  },
  {
   "cell_type": "code",
   "execution_count": 19,
   "metadata": {},
   "outputs": [],
   "source": [
    "#Making the DateTime Column into the index to always plot against. \n",
    "df.index = df['DateTime']"
   ]
  },
  {
   "cell_type": "code",
   "execution_count": 20,
   "metadata": {},
   "outputs": [],
   "source": [
    "#dropping these redundant columns\n",
    "df = df.drop(['DateTime','Date', 'Time'], axis=1)"
   ]
  },
  {
   "cell_type": "code",
   "execution_count": 21,
   "metadata": {
    "scrolled": false
   },
   "outputs": [
    {
     "data": {
      "text/html": [
       "<div>\n",
       "<style scoped>\n",
       "    .dataframe tbody tr th:only-of-type {\n",
       "        vertical-align: middle;\n",
       "    }\n",
       "\n",
       "    .dataframe tbody tr th {\n",
       "        vertical-align: top;\n",
       "    }\n",
       "\n",
       "    .dataframe thead th {\n",
       "        text-align: right;\n",
       "    }\n",
       "</style>\n",
       "<table border=\"1\" class=\"dataframe\">\n",
       "  <thead>\n",
       "    <tr style=\"text-align: right;\">\n",
       "      <th></th>\n",
       "      <th>Inc Vol</th>\n",
       "      <th>Volume</th>\n",
       "      <th>Open</th>\n",
       "      <th>High</th>\n",
       "      <th>Low</th>\n",
       "      <th>Close</th>\n",
       "    </tr>\n",
       "    <tr>\n",
       "      <th>DateTime</th>\n",
       "      <th></th>\n",
       "      <th></th>\n",
       "      <th></th>\n",
       "      <th></th>\n",
       "      <th></th>\n",
       "      <th></th>\n",
       "    </tr>\n",
       "  </thead>\n",
       "  <tbody>\n",
       "    <tr>\n",
       "      <td>2020-02-26 16:02:00</td>\n",
       "      <td>107909.0</td>\n",
       "      <td>3716471.0</td>\n",
       "      <td>3119.00</td>\n",
       "      <td>3120.25</td>\n",
       "      <td>3110.25</td>\n",
       "      <td>3111.50</td>\n",
       "    </tr>\n",
       "    <tr>\n",
       "      <td>2020-02-26 15:58:00</td>\n",
       "      <td>31234.0</td>\n",
       "      <td>3608510.0</td>\n",
       "      <td>3122.00</td>\n",
       "      <td>3124.50</td>\n",
       "      <td>3117.50</td>\n",
       "      <td>3119.00</td>\n",
       "    </tr>\n",
       "    <tr>\n",
       "      <td>2020-02-26 15:54:00</td>\n",
       "      <td>31973.0</td>\n",
       "      <td>3577246.0</td>\n",
       "      <td>3121.00</td>\n",
       "      <td>3126.00</td>\n",
       "      <td>3119.00</td>\n",
       "      <td>3122.25</td>\n",
       "    </tr>\n",
       "    <tr>\n",
       "      <td>2020-02-26 15:50:00</td>\n",
       "      <td>23191.0</td>\n",
       "      <td>3545217.0</td>\n",
       "      <td>3122.00</td>\n",
       "      <td>3124.50</td>\n",
       "      <td>3119.50</td>\n",
       "      <td>3121.00</td>\n",
       "    </tr>\n",
       "    <tr>\n",
       "      <td>2020-02-26 15:46:00</td>\n",
       "      <td>19763.0</td>\n",
       "      <td>3521998.0</td>\n",
       "      <td>3121.75</td>\n",
       "      <td>3125.00</td>\n",
       "      <td>3119.50</td>\n",
       "      <td>3122.00</td>\n",
       "    </tr>\n",
       "    <tr>\n",
       "      <td>...</td>\n",
       "      <td>...</td>\n",
       "      <td>...</td>\n",
       "      <td>...</td>\n",
       "      <td>...</td>\n",
       "      <td>...</td>\n",
       "      <td>...</td>\n",
       "    </tr>\n",
       "    <tr>\n",
       "      <td>2017-01-02 18:22:00</td>\n",
       "      <td>1073.0</td>\n",
       "      <td>10478.0</td>\n",
       "      <td>2244.25</td>\n",
       "      <td>2244.75</td>\n",
       "      <td>2244.25</td>\n",
       "      <td>2244.50</td>\n",
       "    </tr>\n",
       "    <tr>\n",
       "      <td>2017-01-02 18:18:00</td>\n",
       "      <td>528.0</td>\n",
       "      <td>9405.0</td>\n",
       "      <td>2243.25</td>\n",
       "      <td>2244.25</td>\n",
       "      <td>2243.25</td>\n",
       "      <td>2244.25</td>\n",
       "    </tr>\n",
       "    <tr>\n",
       "      <td>2017-01-02 18:14:00</td>\n",
       "      <td>655.0</td>\n",
       "      <td>8877.0</td>\n",
       "      <td>2242.75</td>\n",
       "      <td>2243.50</td>\n",
       "      <td>2242.50</td>\n",
       "      <td>2243.25</td>\n",
       "    </tr>\n",
       "    <tr>\n",
       "      <td>2017-01-02 18:10:00</td>\n",
       "      <td>1485.0</td>\n",
       "      <td>8221.0</td>\n",
       "      <td>2244.00</td>\n",
       "      <td>2244.00</td>\n",
       "      <td>2242.50</td>\n",
       "      <td>2242.75</td>\n",
       "    </tr>\n",
       "    <tr>\n",
       "      <td>2017-01-02 18:06:00</td>\n",
       "      <td>6735.0</td>\n",
       "      <td>6736.0</td>\n",
       "      <td>2240.75</td>\n",
       "      <td>2245.00</td>\n",
       "      <td>2240.75</td>\n",
       "      <td>2243.75</td>\n",
       "    </tr>\n",
       "  </tbody>\n",
       "</table>\n",
       "<p>276088 rows × 6 columns</p>\n",
       "</div>"
      ],
      "text/plain": [
       "                      Inc Vol     Volume     Open     High      Low    Close\n",
       "DateTime                                                                    \n",
       "2020-02-26 16:02:00  107909.0  3716471.0  3119.00  3120.25  3110.25  3111.50\n",
       "2020-02-26 15:58:00   31234.0  3608510.0  3122.00  3124.50  3117.50  3119.00\n",
       "2020-02-26 15:54:00   31973.0  3577246.0  3121.00  3126.00  3119.00  3122.25\n",
       "2020-02-26 15:50:00   23191.0  3545217.0  3122.00  3124.50  3119.50  3121.00\n",
       "2020-02-26 15:46:00   19763.0  3521998.0  3121.75  3125.00  3119.50  3122.00\n",
       "...                       ...        ...      ...      ...      ...      ...\n",
       "2017-01-02 18:22:00    1073.0    10478.0  2244.25  2244.75  2244.25  2244.50\n",
       "2017-01-02 18:18:00     528.0     9405.0  2243.25  2244.25  2243.25  2244.25\n",
       "2017-01-02 18:14:00     655.0     8877.0  2242.75  2243.50  2242.50  2243.25\n",
       "2017-01-02 18:10:00    1485.0     8221.0  2244.00  2244.00  2242.50  2242.75\n",
       "2017-01-02 18:06:00    6735.0     6736.0  2240.75  2245.00  2240.75  2243.75\n",
       "\n",
       "[276088 rows x 6 columns]"
      ]
     },
     "execution_count": 21,
     "metadata": {},
     "output_type": "execute_result"
    }
   ],
   "source": [
    "df"
   ]
  },
  {
   "cell_type": "code",
   "execution_count": 22,
   "metadata": {},
   "outputs": [
    {
     "data": {
      "text/plain": [
       "<matplotlib.axes._subplots.AxesSubplot at 0x12f403450>"
      ]
     },
     "execution_count": 22,
     "metadata": {},
     "output_type": "execute_result"
    },
    {
     "data": {
      "image/png": "[encoded data removed]",
      "text/plain": [
       "<Figure size 432x288 with 1 Axes>"
      ]
     },
     "metadata": {
      "needs_background": "light"
     },
     "output_type": "display_data"
    }
   ],
   "source": [
    "#Plot Closing price over time\n",
    "df['Close'].plot()"
   ]
  },
  {
   "cell_type": "markdown",
   "metadata": {},
   "source": [
    "This basic stock data is now looking pretty good. Let's save our changes as a new csv file. "
   ]
  },
  {
   "cell_type": "code",
   "execution_count": 23,
   "metadata": {},
   "outputs": [],
   "source": [
    "df.to_csv('data.csv', index_label='DateTime')"
   ]
  },
  {
   "cell_type": "markdown",
   "metadata": {},
   "source": [
    "## 3) Feature Engineering - Lag Times\n",
    "\n",
    "Feature Enegineering in this case will involve adding additional columns to help predict the price. Let's start with adding some lag times."
   ]
  },
  {
   "cell_type": "markdown",
   "metadata": {},
   "source": [
    "### Yesterday's High & Low\n",
    "First, let's pull in the file we just made and make sure that's working as expected. "
   ]
  },
  {
   "cell_type": "code",
   "execution_count": 24,
   "metadata": {},
   "outputs": [
    {
     "name": "stdout",
     "output_type": "stream",
     "text": [
      "<class 'pandas.core.frame.DataFrame'>\n",
      "RangeIndex: 276088 entries, 0 to 276087\n",
      "Data columns (total 7 columns):\n",
      "DateTime    276088 non-null datetime64[ns]\n",
      "Inc Vol     276088 non-null float64\n",
      "Volume      276088 non-null float64\n",
      "Open        276088 non-null float64\n",
      "High        276088 non-null float64\n",
      "Low         276088 non-null float64\n",
      "Close       276088 non-null float64\n",
      "dtypes: datetime64[ns](1), float64(6)\n",
      "memory usage: 14.7 MB\n"
     ]
    }
   ],
   "source": [
    "# Import data without the Datetime as the Index \n",
    "df = pd.read_csv('data.csv')\n",
    "df['DateTime'] = pd.to_datetime(df['DateTime'])\n",
    "df.info()"
   ]
  },
  {
   "cell_type": "code",
   "execution_count": 25,
   "metadata": {},
   "outputs": [],
   "source": [
    "#Duplicate DateTime Column \n",
    "# Turning it back into the index. \n",
    "df.index = df['DateTime']"
   ]
  },
  {
   "cell_type": "code",
   "execution_count": 26,
   "metadata": {},
   "outputs": [],
   "source": [
    "#This needs the DATETIME INDEX COLUMN TO WORK!!\n",
    "#Making a dataframe for the Highs & Lows of each day\n",
    "Daily_High = df.groupby(pd.Grouper(freq='D'))['High'].max()\n",
    "Daily_High = Daily_High.to_frame()\n",
    "Daily_Low = df.groupby(pd.Grouper(freq='D'))['Low'].min()\n",
    "Daily_Low = Daily_Low.to_frame()"
   ]
  },
  {
   "cell_type": "code",
   "execution_count": 27,
   "metadata": {},
   "outputs": [],
   "source": [
    "#Creating a DateTime Column for Daily_High table\n",
    "Daily_High['DateTime']= Daily_High.index\n",
    "Daily_Low['DateTime']= Daily_Low.index"
   ]
  },
  {
   "cell_type": "code",
   "execution_count": 28,
   "metadata": {},
   "outputs": [],
   "source": [
    "Daily_High = Daily_High.dropna()\n",
    "Daily_Low = Daily_Low.dropna()"
   ]
  },
  {
   "cell_type": "code",
   "execution_count": 29,
   "metadata": {},
   "outputs": [],
   "source": [
    "#Creating a Yesterday's DateTime Column for Daily_High table\n",
    "Daily_High['YHigh'] = Daily_High['High'].shift(1)\n",
    "Daily_Low['YLow'] = Daily_Low['Low'].shift(1)"
   ]
  },
  {
   "cell_type": "code",
   "execution_count": 30,
   "metadata": {},
   "outputs": [],
   "source": [
    "#Dictionaries to map these values into the main df\n",
    "YHigh_Dict = Daily_High.to_dict()['YHigh']\n",
    "YLow_Dict = Daily_Low.to_dict()['YLow']"
   ]
  },
  {
   "cell_type": "code",
   "execution_count": 31,
   "metadata": {},
   "outputs": [],
   "source": [
    "#Creating a Date only Column in the main df for our mapping\n",
    "df['Date'] = pd.to_datetime(df['DateTime'].dt.date)"
   ]
  },
  {
   "cell_type": "code",
   "execution_count": 32,
   "metadata": {},
   "outputs": [],
   "source": [
    "#Maps the values from the Yesterdays High/Low tables to the Date Column\n",
    "df[\"YHigh\"] = df[\"Date\"].map(YHigh_Dict) \n",
    "df[\"YLow\"] = df[\"Date\"].map(YLow_Dict) "
   ]
  },
  {
   "cell_type": "code",
   "execution_count": 33,
   "metadata": {},
   "outputs": [
    {
     "data": {
      "text/html": [
       "<div>\n",
       "<style scoped>\n",
       "    .dataframe tbody tr th:only-of-type {\n",
       "        vertical-align: middle;\n",
       "    }\n",
       "\n",
       "    .dataframe tbody tr th {\n",
       "        vertical-align: top;\n",
       "    }\n",
       "\n",
       "    .dataframe thead th {\n",
       "        text-align: right;\n",
       "    }\n",
       "</style>\n",
       "<table border=\"1\" class=\"dataframe\">\n",
       "  <thead>\n",
       "    <tr style=\"text-align: right;\">\n",
       "      <th></th>\n",
       "      <th>DateTime</th>\n",
       "      <th>Inc Vol</th>\n",
       "      <th>Volume</th>\n",
       "      <th>Open</th>\n",
       "      <th>High</th>\n",
       "      <th>Low</th>\n",
       "      <th>Close</th>\n",
       "      <th>Date</th>\n",
       "      <th>YHigh</th>\n",
       "      <th>YLow</th>\n",
       "    </tr>\n",
       "    <tr>\n",
       "      <th>DateTime</th>\n",
       "      <th></th>\n",
       "      <th></th>\n",
       "      <th></th>\n",
       "      <th></th>\n",
       "      <th></th>\n",
       "      <th></th>\n",
       "      <th></th>\n",
       "      <th></th>\n",
       "      <th></th>\n",
       "      <th></th>\n",
       "    </tr>\n",
       "  </thead>\n",
       "  <tbody>\n",
       "    <tr>\n",
       "      <td>2020-02-26 16:02:00</td>\n",
       "      <td>2020-02-26 16:02:00</td>\n",
       "      <td>107909.0</td>\n",
       "      <td>3716471.0</td>\n",
       "      <td>3119.00</td>\n",
       "      <td>3120.25</td>\n",
       "      <td>3110.25</td>\n",
       "      <td>3111.50</td>\n",
       "      <td>2020-02-26</td>\n",
       "      <td>3258.0</td>\n",
       "      <td>3117.25</td>\n",
       "    </tr>\n",
       "    <tr>\n",
       "      <td>2020-02-26 15:58:00</td>\n",
       "      <td>2020-02-26 15:58:00</td>\n",
       "      <td>31234.0</td>\n",
       "      <td>3608510.0</td>\n",
       "      <td>3122.00</td>\n",
       "      <td>3124.50</td>\n",
       "      <td>3117.50</td>\n",
       "      <td>3119.00</td>\n",
       "      <td>2020-02-26</td>\n",
       "      <td>3258.0</td>\n",
       "      <td>3117.25</td>\n",
       "    </tr>\n",
       "    <tr>\n",
       "      <td>2020-02-26 15:54:00</td>\n",
       "      <td>2020-02-26 15:54:00</td>\n",
       "      <td>31973.0</td>\n",
       "      <td>3577246.0</td>\n",
       "      <td>3121.00</td>\n",
       "      <td>3126.00</td>\n",
       "      <td>3119.00</td>\n",
       "      <td>3122.25</td>\n",
       "      <td>2020-02-26</td>\n",
       "      <td>3258.0</td>\n",
       "      <td>3117.25</td>\n",
       "    </tr>\n",
       "    <tr>\n",
       "      <td>2020-02-26 15:50:00</td>\n",
       "      <td>2020-02-26 15:50:00</td>\n",
       "      <td>23191.0</td>\n",
       "      <td>3545217.0</td>\n",
       "      <td>3122.00</td>\n",
       "      <td>3124.50</td>\n",
       "      <td>3119.50</td>\n",
       "      <td>3121.00</td>\n",
       "      <td>2020-02-26</td>\n",
       "      <td>3258.0</td>\n",
       "      <td>3117.25</td>\n",
       "    </tr>\n",
       "    <tr>\n",
       "      <td>2020-02-26 15:46:00</td>\n",
       "      <td>2020-02-26 15:46:00</td>\n",
       "      <td>19763.0</td>\n",
       "      <td>3521998.0</td>\n",
       "      <td>3121.75</td>\n",
       "      <td>3125.00</td>\n",
       "      <td>3119.50</td>\n",
       "      <td>3122.00</td>\n",
       "      <td>2020-02-26</td>\n",
       "      <td>3258.0</td>\n",
       "      <td>3117.25</td>\n",
       "    </tr>\n",
       "  </tbody>\n",
       "</table>\n",
       "</div>"
      ],
      "text/plain": [
       "                               DateTime   Inc Vol     Volume     Open  \\\n",
       "DateTime                                                                \n",
       "2020-02-26 16:02:00 2020-02-26 16:02:00  107909.0  3716471.0  3119.00   \n",
       "2020-02-26 15:58:00 2020-02-26 15:58:00   31234.0  3608510.0  3122.00   \n",
       "2020-02-26 15:54:00 2020-02-26 15:54:00   31973.0  3577246.0  3121.00   \n",
       "2020-02-26 15:50:00 2020-02-26 15:50:00   23191.0  3545217.0  3122.00   \n",
       "2020-02-26 15:46:00 2020-02-26 15:46:00   19763.0  3521998.0  3121.75   \n",
       "\n",
       "                        High      Low    Close       Date   YHigh     YLow  \n",
       "DateTime                                                                    \n",
       "2020-02-26 16:02:00  3120.25  3110.25  3111.50 2020-02-26  3258.0  3117.25  \n",
       "2020-02-26 15:58:00  3124.50  3117.50  3119.00 2020-02-26  3258.0  3117.25  \n",
       "2020-02-26 15:54:00  3126.00  3119.00  3122.25 2020-02-26  3258.0  3117.25  \n",
       "2020-02-26 15:50:00  3124.50  3119.50  3121.00 2020-02-26  3258.0  3117.25  \n",
       "2020-02-26 15:46:00  3125.00  3119.50  3122.00 2020-02-26  3258.0  3117.25  "
      ]
     },
     "execution_count": 33,
     "metadata": {},
     "output_type": "execute_result"
    }
   ],
   "source": [
    "df.head()"
   ]
  },
  {
   "cell_type": "code",
   "execution_count": 34,
   "metadata": {},
   "outputs": [
    {
     "name": "stdout",
     "output_type": "stream",
     "text": [
      "<class 'pandas.core.frame.DataFrame'>\n",
      "DatetimeIndex: 276088 entries, 2020-02-26 16:02:00 to 2017-01-02 18:06:00\n",
      "Data columns (total 10 columns):\n",
      "DateTime    276088 non-null datetime64[ns]\n",
      "Inc Vol     276088 non-null float64\n",
      "Volume      276088 non-null float64\n",
      "Open        276088 non-null float64\n",
      "High        276088 non-null float64\n",
      "Low         276088 non-null float64\n",
      "Close       276088 non-null float64\n",
      "Date        276088 non-null datetime64[ns]\n",
      "YHigh       275999 non-null float64\n",
      "YLow        275999 non-null float64\n",
      "dtypes: datetime64[ns](2), float64(8)\n",
      "memory usage: 23.2 MB\n"
     ]
    }
   ],
   "source": [
    "df.info()"
   ]
  },
  {
   "cell_type": "code",
   "execution_count": 35,
   "metadata": {},
   "outputs": [],
   "source": [
    "#Drop extra columns that I added for this\n",
    "df = df.drop(['DateTime','Date'], axis=1)\n"
   ]
  },
  {
   "cell_type": "markdown",
   "metadata": {},
   "source": [
    "### 4, 12, 24, 36 Minute Lags (High, Low, Close)"
   ]
  },
  {
   "cell_type": "code",
   "execution_count": 36,
   "metadata": {},
   "outputs": [],
   "source": [
    "# Lag times from current bar to the previous 1,3,6,9 bars\n",
    "df['LagC1B'] = df['Close'].diff(-1)\n",
    "df['LagC3B'] = df['Close'].diff(-3)\n",
    "df['LagC6B'] = df['Close'].diff(-6)\n",
    "df['LagC9B'] = df['Close'].diff(-9)\n",
    "df['LagH1B'] = df['High'].diff(-1)\n",
    "df['LagH3B'] = df['High'].diff(-3)\n",
    "df['LagH6B'] = df['High'].diff(-6)\n",
    "df['LagH9B'] = df['High'].diff(-9)\n",
    "df['LagL1B'] = df['Low'].diff(-1)\n",
    "df['LagL3B'] = df['Low'].diff(-3)\n",
    "df['LagL6B'] = df['Low'].diff(-6)\n",
    "df['LagL9B'] = df['Low'].diff(-9)"
   ]
  },
  {
   "cell_type": "code",
   "execution_count": 37,
   "metadata": {},
   "outputs": [],
   "source": [
    "#The first few rows don't have preceeding rows, so drop NaNs\n",
    "df = df.dropna()"
   ]
  },
  {
   "cell_type": "code",
   "execution_count": 38,
   "metadata": {},
   "outputs": [
    {
     "data": {
      "text/html": [
       "<div>\n",
       "<style scoped>\n",
       "    .dataframe tbody tr th:only-of-type {\n",
       "        vertical-align: middle;\n",
       "    }\n",
       "\n",
       "    .dataframe tbody tr th {\n",
       "        vertical-align: top;\n",
       "    }\n",
       "\n",
       "    .dataframe thead th {\n",
       "        text-align: right;\n",
       "    }\n",
       "</style>\n",
       "<table border=\"1\" class=\"dataframe\">\n",
       "  <thead>\n",
       "    <tr style=\"text-align: right;\">\n",
       "      <th></th>\n",
       "      <th>Inc Vol</th>\n",
       "      <th>Volume</th>\n",
       "      <th>Open</th>\n",
       "      <th>High</th>\n",
       "      <th>Low</th>\n",
       "      <th>Close</th>\n",
       "      <th>YHigh</th>\n",
       "      <th>YLow</th>\n",
       "      <th>LagC1B</th>\n",
       "      <th>LagC3B</th>\n",
       "      <th>LagC6B</th>\n",
       "      <th>LagC9B</th>\n",
       "      <th>LagH1B</th>\n",
       "      <th>LagH3B</th>\n",
       "      <th>LagH6B</th>\n",
       "      <th>LagH9B</th>\n",
       "      <th>LagL1B</th>\n",
       "      <th>LagL3B</th>\n",
       "      <th>LagL6B</th>\n",
       "      <th>LagL9B</th>\n",
       "    </tr>\n",
       "    <tr>\n",
       "      <th>DateTime</th>\n",
       "      <th></th>\n",
       "      <th></th>\n",
       "      <th></th>\n",
       "      <th></th>\n",
       "      <th></th>\n",
       "      <th></th>\n",
       "      <th></th>\n",
       "      <th></th>\n",
       "      <th></th>\n",
       "      <th></th>\n",
       "      <th></th>\n",
       "      <th></th>\n",
       "      <th></th>\n",
       "      <th></th>\n",
       "      <th></th>\n",
       "      <th></th>\n",
       "      <th></th>\n",
       "      <th></th>\n",
       "      <th></th>\n",
       "      <th></th>\n",
       "    </tr>\n",
       "  </thead>\n",
       "  <tbody>\n",
       "    <tr>\n",
       "      <td>2020-02-26 16:02:00</td>\n",
       "      <td>107909.0</td>\n",
       "      <td>3716471.0</td>\n",
       "      <td>3119.00</td>\n",
       "      <td>3120.25</td>\n",
       "      <td>3110.25</td>\n",
       "      <td>3111.50</td>\n",
       "      <td>3258.0</td>\n",
       "      <td>3117.25</td>\n",
       "      <td>-7.50</td>\n",
       "      <td>-9.50</td>\n",
       "      <td>-9.00</td>\n",
       "      <td>-8.75</td>\n",
       "      <td>-4.25</td>\n",
       "      <td>-4.25</td>\n",
       "      <td>-4.25</td>\n",
       "      <td>-6.50</td>\n",
       "      <td>-7.25</td>\n",
       "      <td>-9.25</td>\n",
       "      <td>-6.50</td>\n",
       "      <td>-9.00</td>\n",
       "    </tr>\n",
       "    <tr>\n",
       "      <td>2020-02-26 15:58:00</td>\n",
       "      <td>31234.0</td>\n",
       "      <td>3608510.0</td>\n",
       "      <td>3122.00</td>\n",
       "      <td>3124.50</td>\n",
       "      <td>3117.50</td>\n",
       "      <td>3119.00</td>\n",
       "      <td>3258.0</td>\n",
       "      <td>3117.25</td>\n",
       "      <td>-3.25</td>\n",
       "      <td>-3.00</td>\n",
       "      <td>-0.25</td>\n",
       "      <td>-5.75</td>\n",
       "      <td>-1.50</td>\n",
       "      <td>-0.50</td>\n",
       "      <td>-1.25</td>\n",
       "      <td>-10.50</td>\n",
       "      <td>-1.50</td>\n",
       "      <td>-2.00</td>\n",
       "      <td>-0.50</td>\n",
       "      <td>-6.25</td>\n",
       "    </tr>\n",
       "    <tr>\n",
       "      <td>2020-02-26 15:54:00</td>\n",
       "      <td>31973.0</td>\n",
       "      <td>3577246.0</td>\n",
       "      <td>3121.00</td>\n",
       "      <td>3126.00</td>\n",
       "      <td>3119.00</td>\n",
       "      <td>3122.25</td>\n",
       "      <td>3258.0</td>\n",
       "      <td>3117.25</td>\n",
       "      <td>1.25</td>\n",
       "      <td>0.50</td>\n",
       "      <td>0.75</td>\n",
       "      <td>-9.75</td>\n",
       "      <td>1.50</td>\n",
       "      <td>0.00</td>\n",
       "      <td>3.25</td>\n",
       "      <td>-7.25</td>\n",
       "      <td>-0.50</td>\n",
       "      <td>0.00</td>\n",
       "      <td>2.50</td>\n",
       "      <td>-4.75</td>\n",
       "    </tr>\n",
       "    <tr>\n",
       "      <td>2020-02-26 15:50:00</td>\n",
       "      <td>23191.0</td>\n",
       "      <td>3545217.0</td>\n",
       "      <td>3122.00</td>\n",
       "      <td>3124.50</td>\n",
       "      <td>3119.50</td>\n",
       "      <td>3121.00</td>\n",
       "      <td>3258.0</td>\n",
       "      <td>3117.25</td>\n",
       "      <td>-1.00</td>\n",
       "      <td>0.50</td>\n",
       "      <td>0.75</td>\n",
       "      <td>-5.25</td>\n",
       "      <td>-0.50</td>\n",
       "      <td>0.00</td>\n",
       "      <td>-2.25</td>\n",
       "      <td>-4.75</td>\n",
       "      <td>0.00</td>\n",
       "      <td>2.75</td>\n",
       "      <td>0.25</td>\n",
       "      <td>-0.25</td>\n",
       "    </tr>\n",
       "    <tr>\n",
       "      <td>2020-02-26 15:46:00</td>\n",
       "      <td>19763.0</td>\n",
       "      <td>3521998.0</td>\n",
       "      <td>3121.75</td>\n",
       "      <td>3125.00</td>\n",
       "      <td>3119.50</td>\n",
       "      <td>3122.00</td>\n",
       "      <td>3258.0</td>\n",
       "      <td>3117.25</td>\n",
       "      <td>0.25</td>\n",
       "      <td>2.75</td>\n",
       "      <td>-2.75</td>\n",
       "      <td>-0.25</td>\n",
       "      <td>-1.00</td>\n",
       "      <td>-0.75</td>\n",
       "      <td>-10.00</td>\n",
       "      <td>2.75</td>\n",
       "      <td>0.50</td>\n",
       "      <td>1.50</td>\n",
       "      <td>-4.25</td>\n",
       "      <td>5.00</td>\n",
       "    </tr>\n",
       "  </tbody>\n",
       "</table>\n",
       "</div>"
      ],
      "text/plain": [
       "                      Inc Vol     Volume     Open     High      Low    Close  \\\n",
       "DateTime                                                                       \n",
       "2020-02-26 16:02:00  107909.0  3716471.0  3119.00  3120.25  3110.25  3111.50   \n",
       "2020-02-26 15:58:00   31234.0  3608510.0  3122.00  3124.50  3117.50  3119.00   \n",
       "2020-02-26 15:54:00   31973.0  3577246.0  3121.00  3126.00  3119.00  3122.25   \n",
       "2020-02-26 15:50:00   23191.0  3545217.0  3122.00  3124.50  3119.50  3121.00   \n",
       "2020-02-26 15:46:00   19763.0  3521998.0  3121.75  3125.00  3119.50  3122.00   \n",
       "\n",
       "                      YHigh     YLow  LagC1B  LagC3B  LagC6B  LagC9B  LagH1B  \\\n",
       "DateTime                                                                       \n",
       "2020-02-26 16:02:00  3258.0  3117.25   -7.50   -9.50   -9.00   -8.75   -4.25   \n",
       "2020-02-26 15:58:00  3258.0  3117.25   -3.25   -3.00   -0.25   -5.75   -1.50   \n",
       "2020-02-26 15:54:00  3258.0  3117.25    1.25    0.50    0.75   -9.75    1.50   \n",
       "2020-02-26 15:50:00  3258.0  3117.25   -1.00    0.50    0.75   -5.25   -0.50   \n",
       "2020-02-26 15:46:00  3258.0  3117.25    0.25    2.75   -2.75   -0.25   -1.00   \n",
       "\n",
       "                     LagH3B  LagH6B  LagH9B  LagL1B  LagL3B  LagL6B  LagL9B  \n",
       "DateTime                                                                     \n",
       "2020-02-26 16:02:00   -4.25   -4.25   -6.50   -7.25   -9.25   -6.50   -9.00  \n",
       "2020-02-26 15:58:00   -0.50   -1.25  -10.50   -1.50   -2.00   -0.50   -6.25  \n",
       "2020-02-26 15:54:00    0.00    3.25   -7.25   -0.50    0.00    2.50   -4.75  \n",
       "2020-02-26 15:50:00    0.00   -2.25   -4.75    0.00    2.75    0.25   -0.25  \n",
       "2020-02-26 15:46:00   -0.75  -10.00    2.75    0.50    1.50   -4.25    5.00  "
      ]
     },
     "execution_count": 38,
     "metadata": {},
     "output_type": "execute_result"
    }
   ],
   "source": [
    "df.head()"
   ]
  },
  {
   "cell_type": "code",
   "execution_count": null,
   "metadata": {},
   "outputs": [],
   "source": []
  },
  {
   "cell_type": "code",
   "execution_count": null,
   "metadata": {},
   "outputs": [],
   "source": []
  },
  {
   "cell_type": "code",
   "execution_count": null,
   "metadata": {},
   "outputs": [],
   "source": []
  },
  {
   "cell_type": "code",
   "execution_count": null,
   "metadata": {},
   "outputs": [],
   "source": []
  }
 ],
 "metadata": {
  "kernelspec": {
   "display_name": "Python 3",
   "language": "python",
   "name": "python3"
  },
  "language_info": {
   "codemirror_mode": {
    "name": "ipython",
    "version": 3
   },
   "file_extension": ".py",
   "mimetype": "text/x-python",
   "name": "python",
   "nbconvert_exporter": "python",
   "pygments_lexer": "ipython3",
   "version": "3.7.4"
  }
 },
 "nbformat": 4,
 "nbformat_minor": 2
}
